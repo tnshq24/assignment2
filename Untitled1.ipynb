{
 "cells": [
  {
   "cell_type": "code",
   "execution_count": null,
   "id": "03bcbe93-bd0f-4804-9889-c496c882d887",
   "metadata": {},
   "outputs": [],
   "source": [
    "Q1\n",
    "# This is how we comment in python\n",
    "\n",
    "There are three types of commenting available in python"
   ]
  },
  {
   "cell_type": "code",
   "execution_count": null,
   "id": "1cf17e3e-d139-451a-8503-e116ca88ed21",
   "metadata": {},
   "outputs": [],
   "source": [
    "Q2\n",
    "Variables in python are used to store and assign value,\n",
    "or they are also called a reference to an object\n",
    "\n",
    "a = 5\n",
    "b = 6"
   ]
  },
  {
   "cell_type": "code",
   "execution_count": 4,
   "id": "40b33772-3426-4446-9926-e51fe3e44fdc",
   "metadata": {},
   "outputs": [
    {
     "name": "stdout",
     "output_type": "stream",
     "text": [
      "Data type of l before: <class 'list'>\n",
      "Data type of l after: <class 'str'>\n"
     ]
    }
   ],
   "source": [
    "Q3\n",
    "l = [2,4,3,1]\n",
    "print(\"Data type of l before:\", type(l))\n",
    "l = str(l)\n",
    "print(\"Data type of l after:\",type(l))"
   ]
  },
  {
   "cell_type": "code",
   "execution_count": null,
   "id": "c80ea65d-e8de-4e41-b64e-206df508778f",
   "metadata": {},
   "outputs": [],
   "source": [
    "Q4\n",
    "\n",
    "Put python keyword followed by the file where the code is written to get executed."
   ]
  },
  {
   "cell_type": "code",
   "execution_count": 6,
   "id": "8b5b2104-0fc5-4505-afe1-3cd9008e4e89",
   "metadata": {},
   "outputs": [
    {
     "name": "stdout",
     "output_type": "stream",
     "text": [
      "[3]\n"
     ]
    }
   ],
   "source": [
    "Q5\n",
    "my_list = [1, 2, 3, 4, 5]\n",
    "print(my_list[2:3])"
   ]
  },
  {
   "cell_type": "code",
   "execution_count": 8,
   "id": "50554f09-bbe1-42d9-a598-add8956f5de7",
   "metadata": {},
   "outputs": [
    {
     "name": "stdout",
     "output_type": "stream",
     "text": [
      "(5+7j)\n"
     ]
    }
   ],
   "source": [
    "Q6\n",
    "a = complex(5,7)\n",
    "print(a)"
   ]
  },
  {
   "cell_type": "code",
   "execution_count": 12,
   "id": "01f5f481-2580-4c87-9c1e-896bb00e0054",
   "metadata": {},
   "outputs": [
    {
     "name": "stdout",
     "output_type": "stream",
     "text": [
      "Type of age: <class 'int'> 25\n"
     ]
    }
   ],
   "source": [
    "Q7\n",
    "age = 25.6\n",
    "age = int(age)\n",
    "print(\"Type of age:\", type(age), age)"
   ]
  },
  {
   "cell_type": "code",
   "execution_count": 13,
   "id": "21bb0128-1e1b-49ea-9ce4-fedb2b20d989",
   "metadata": {},
   "outputs": [
    {
     "name": "stdout",
     "output_type": "stream",
     "text": [
      "Data type of price is: <class 'float'>\n"
     ]
    }
   ],
   "source": [
    "Q8\n",
    "price = 9.99\n",
    "print(\"Data type of price is:\",type(price))"
   ]
  },
  {
   "cell_type": "code",
   "execution_count": 14,
   "id": "ea164172-2f74-4ef3-96ba-e63041902b6a",
   "metadata": {},
   "outputs": [
    {
     "name": "stdout",
     "output_type": "stream",
     "text": [
      "Tanishq Singh\n"
     ]
    }
   ],
   "source": [
    "Q9\n",
    "name = \"Tanishq Singh\"\n",
    "print(name)"
   ]
  },
  {
   "cell_type": "code",
   "execution_count": 27,
   "id": "4f431fe9-c051-4972-bc70-ac442501182b",
   "metadata": {},
   "outputs": [
    {
     "name": "stdout",
     "output_type": "stream",
     "text": [
      "13\n",
      "World\n"
     ]
    }
   ],
   "source": [
    "\n",
    "string = \"Hello, World!\"\n",
    "print(string[7:12])"
   ]
  },
  {
   "cell_type": "code",
   "execution_count": null,
   "id": "b1565a63-97d8-4c7e-8d27-97b285583478",
   "metadata": {},
   "outputs": [],
   "source": []
  }
 ],
 "metadata": {
  "kernelspec": {
   "display_name": "Python 3 (ipykernel)",
   "language": "python",
   "name": "python3"
  },
  "language_info": {
   "codemirror_mode": {
    "name": "ipython",
    "version": 3
   },
   "file_extension": ".py",
   "mimetype": "text/x-python",
   "name": "python",
   "nbconvert_exporter": "python",
   "pygments_lexer": "ipython3",
   "version": "3.10.8"
  }
 },
 "nbformat": 4,
 "nbformat_minor": 5
}
